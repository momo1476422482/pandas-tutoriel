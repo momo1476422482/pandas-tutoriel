{
 "cells": [
  {
   "cell_type": "markdown",
   "metadata": {},
   "source": [
    "# Part I : Quel(le) data scientist êtes-vous ?\n",
    "## Contexte de l’analyse\n",
    "\n",
    "Elu métier le plus sexy par la Harvard Business Review en octobre 2012, le data scientist représente un profil rare qui exige de nombreuses compétences.\n",
    "\n",
    "A partir d'un dataset Aquila, vous réaliserez :\n",
    "- un clustering non supervisé afin d'identifier 2 groupes de profils techniques distinctes\n",
    "- une prédiction des profils dont le métier n'est pas labellisé\n",
    "\n",
    "\n",
    "## Données\n",
    "data.csv contient 6 variables : \n",
    "    - 'Entreprise' correspond à une liste d'entreprises fictive\n",
    "    - 'Metier' correspond au métier parmi data scientist, lead data scientist, data engineer et data architecte\n",
    "    - 'Technologies' correspond aux compétences maîtrisées par le profil\n",
    "    - 'Diplome' correspond à son niveau scolaire (Bac, Master, PhD,...)\n",
    "    - 'Experience' correspond au nombre d'années d'expériences\n",
    "    - 'Ville' correspond au lieu de travail\n",
    "    \n",
    "\n",
    "\n",
    "## Répondez aux questions \n",
    "\n",
    "Bonne chance!"
   ]
  },
  {
   "cell_type": "code",
   "execution_count": 48,
   "metadata": {},
   "outputs": [],
   "source": [
    "# Import des libraries classique (numpy, pandas, ...)\n",
    "import pandas as pd\n",
    "import numpy as np\n",
    "import re\n",
    "import sklearn as sk\n",
    "\n",
    "import seaborn as sb\n",
    "from matplotlib import pyplot as plt\n",
    "plt.style.use('ggplot')"
   ]
  },
  {
   "cell_type": "markdown",
   "metadata": {},
   "source": [
    "### 1) Importer le tableau de données dans un dataframe "
   ]
  },
  {
   "cell_type": "code",
   "execution_count": 49,
   "metadata": {
    "scrolled": true
   },
   "outputs": [
    {
     "name": "stdout",
     "output_type": "stream",
     "text": [
      "                                             Entreprise               Metier  \\\n",
      "0                                                Sanofi       Data scientist   \n",
      "1                   Massachusetts General Hospital(MGH)      Data architecte   \n",
      "2                                                 Delve  Lead data scientist   \n",
      "3     Ann & Robert H. Lurie Children’s Hospital of C...       Data scientist   \n",
      "4                                                   Arm       Data scientist   \n",
      "...                                                 ...                  ...   \n",
      "9577                Massachusetts General Hospital(MGH)       Data scientist   \n",
      "9578                            Charles River Analytics       Data scientist   \n",
      "9579                                     Ball Aerospace       Data scientist   \n",
      "9580                              Takeda Pharmaceutical       Data scientist   \n",
      "9581                                             Vertex       Data scientist   \n",
      "\n",
      "                                           Technologies Diplome Experience  \\\n",
      "0         Matlab/Python/Pyspark/Scikit-learn/Tensorflow  Master          1   \n",
      "1                             Python/Java/Scala/MongoDB  Master          3   \n",
      "2     SPSS/SQL/Teradata/R/Python/Tensorflow/scikit-l...  Master          3   \n",
      "3                                     C/C++/Java/Python  Master        1,5   \n",
      "4       Matlab/Python/C++/numpy/Tensorflow/scikit-learn     Phd        NaN   \n",
      "...                                                 ...     ...        ...   \n",
      "9577                     C++/R/Python/Matlab/Matplotlib  Master        1,5   \n",
      "9578     Excel/Python/Matlab/R/machine learning/anglais  Master         11   \n",
      "9579                       R/machine learning/Excel/VBA  Master          1   \n",
      "9580    Python/Pyspark/machine learning/Microsoft Azure  Master         17   \n",
      "9581                                 VBA/Python/Excel/R     Phd          0   \n",
      "\n",
      "          Ville  \n",
      "0         Paris  \n",
      "1     Marseille  \n",
      "2        Nantes  \n",
      "3     Marseille  \n",
      "4      Bordeaux  \n",
      "...         ...  \n",
      "9577       Lyon  \n",
      "9578   Toulouse  \n",
      "9579      Paris  \n",
      "9580     Rennes  \n",
      "9581      Paris  \n",
      "\n",
      "[9582 rows x 6 columns]\n"
     ]
    }
   ],
   "source": [
    "# Import du dataframe \"data.csv\"\n",
    "df = pd.read_csv(\"data.csv\")\n",
    "print(df)\n",
    "\n"
   ]
  },
  {
   "cell_type": "markdown",
   "metadata": {},
   "source": [
    "### 2) Combien y a t-il d'observations dans ce dataset? Y a t-il des valeurs manquantes? "
   ]
  },
  {
   "cell_type": "code",
   "execution_count": null,
   "metadata": {},
   "outputs": [],
   "source": []
  },
  {
   "cell_type": "markdown",
   "metadata": {},
   "source": [
    "### 3) Réaliser l'imputation des valeurs manquantes pour la variable \"Experience\" avec : \n",
    "- la valeur médiane pour les data scientists\n",
    "- la valeur moyenne pour les data engineers"
   ]
  },
  {
   "cell_type": "code",
   "execution_count": 50,
   "metadata": {},
   "outputs": [
    {
     "name": "stdout",
     "output_type": "stream",
     "text": [
      "                                             Entreprise               Metier  \\\n",
      "0                                                Sanofi       Data scientist   \n",
      "1                   Massachusetts General Hospital(MGH)      Data architecte   \n",
      "2                                                 Delve  Lead data scientist   \n",
      "3     Ann & Robert H. Lurie Children’s Hospital of C...       Data scientist   \n",
      "4                                                   Arm       Data scientist   \n",
      "...                                                 ...                  ...   \n",
      "9577                Massachusetts General Hospital(MGH)       Data scientist   \n",
      "9578                            Charles River Analytics       Data scientist   \n",
      "9579                                     Ball Aerospace       Data scientist   \n",
      "9580                              Takeda Pharmaceutical       Data scientist   \n",
      "9581                                             Vertex       Data scientist   \n",
      "\n",
      "                                           Technologies Diplome Experience  \\\n",
      "0         Matlab/Python/Pyspark/Scikit-learn/Tensorflow  Master          1   \n",
      "1                             Python/Java/Scala/MongoDB  Master          3   \n",
      "2     SPSS/SQL/Teradata/R/Python/Tensorflow/scikit-l...  Master          3   \n",
      "3                                     C/C++/Java/Python  Master        1,5   \n",
      "4       Matlab/Python/C++/numpy/Tensorflow/scikit-learn     Phd        NaN   \n",
      "...                                                 ...     ...        ...   \n",
      "9577                     C++/R/Python/Matlab/Matplotlib  Master        1,5   \n",
      "9578     Excel/Python/Matlab/R/machine learning/anglais  Master         11   \n",
      "9579                       R/machine learning/Excel/VBA  Master          1   \n",
      "9580    Python/Pyspark/machine learning/Microsoft Azure  Master         17   \n",
      "9581                                 VBA/Python/Excel/R     Phd          0   \n",
      "\n",
      "          Ville  \n",
      "0         Paris  \n",
      "1     Marseille  \n",
      "2        Nantes  \n",
      "3     Marseille  \n",
      "4      Bordeaux  \n",
      "...         ...  \n",
      "9577       Lyon  \n",
      "9578   Toulouse  \n",
      "9579      Paris  \n",
      "9580     Rennes  \n",
      "9581      Paris  \n",
      "\n",
      "[9582 rows x 6 columns]\n"
     ]
    }
   ],
   "source": [
    "# Imputation pour Data scientist\n",
    "median = df[df[\"Metier\"] == \"Data scientist\"].median(skipna=True)\n",
    "mean = df[df[\"Metier\"] == \"Data engineer\"].mean(skipna=True)\n",
    "\n",
    "df[df[\"Metier\"] == \"Data scientist\"]['Experience'].fillna(0)\n",
    "print(df)\n",
    "\n",
    "\n",
    "df2=df[df[\"Metier\"] == \"Data engineer\"].Experience.fillna(mean)\n",
    "\n"
   ]
  },
  {
   "cell_type": "markdown",
   "metadata": {},
   "source": [
    "### 4) Combien d'années d'expériences ont, en moyenne, chacun des profils : le data scientist, le lead data scientist et le data engineer en moyenne?"
   ]
  },
  {
   "cell_type": "code",
   "execution_count": 21,
   "metadata": {},
   "outputs": [
    {
     "name": "stdout",
     "output_type": "stream",
     "text": [
      "<bound method Series.mean of 0         1\n",
      "3       1,5\n",
      "4       NaN\n",
      "6         0\n",
      "7         4\n",
      "       ... \n",
      "9577    1,5\n",
      "9578     11\n",
      "9579      1\n",
      "9580     17\n",
      "9581      0\n",
      "Name: Experience, Length: 3865, dtype: object>\n"
     ]
    }
   ],
   "source": [
    "\n",
    "print(df[df[\"Metier\"] == \"Data scientist\"].Experience.mean)"
   ]
  },
  {
   "cell_type": "markdown",
   "metadata": {},
   "source": [
    "### 5) Faire la représentation graphique de votre choix afin de comparer le nombre moyen d'années d'expériences pour chaque métier"
   ]
  },
  {
   "cell_type": "code",
   "execution_count": 7,
   "metadata": {},
   "outputs": [
    {
     "data": {
      "image/png": "[encoded data removed]",
      "text/plain": [
       "<Figure size 432x288 with 1 Axes>"
      ]
     },
     "metadata": {},
     "output_type": "display_data"
    }
   ],
   "source": []
  },
  {
   "cell_type": "markdown",
   "metadata": {},
   "source": [
    "### 6) Transformer la variable continue 'Experience' en une nouvelle variable catégorielle 'Exp_label' à 4 modalités: débutant, confirmé, avancé et expert\n",
    "- Veuillez expliquer votre choix du règle de transformation.  "
   ]
  },
  {
   "cell_type": "code",
   "execution_count": 8,
   "metadata": {},
   "outputs": [
    {
     "name": "stderr",
     "output_type": "stream",
     "text": [
      "c:\\users\\mzhang\\anaconda3\\envs\\pytorch_gpu\\lib\\site-packages\\seaborn\\distributions.py:2619: FutureWarning: `distplot` is a deprecated function and will be removed in a future version. Please adapt your code to use either `displot` (a figure-level function with similar flexibility) or `histplot` (an axes-level function for histograms).\n",
      "  warnings.warn(msg, FutureWarning)\n"
     ]
    },
    {
     "data": {
      "image/png": "[encoded data removed]",
      "text/plain": [
       "<Figure size 432x288 with 1 Axes>"
      ]
     },
     "metadata": {},
     "output_type": "display_data"
    }
   ],
   "source": []
  },
  {
   "cell_type": "markdown",
   "metadata": {},
   "source": [
    "### 7) Quelles sont les 5 technologies les plus utilisées? Faites un graphique"
   ]
  },
  {
   "cell_type": "code",
   "execution_count": 9,
   "metadata": {},
   "outputs": [
    {
     "name": "stdout",
     "output_type": "stream",
     "text": [
      "57 technologies sont listee\n"
     ]
    },
    {
     "data": {
      "image/png": "[encoded data removed]",
      "text/plain": [
       "<Figure size 432x288 with 1 Axes>"
      ]
     },
     "metadata": {},
     "output_type": "display_data"
    }
   ],
   "source": []
  },
  {
   "cell_type": "markdown",
   "metadata": {},
   "source": [
    "### 8) Réaliser une méthode de clustering non supervisée de votre choix pour faire apparaître 2 clusters que vous jugerez pertinents. Donnez les caractéristiques de chacun des clusters.\n",
    "-  Justifier la performance de votre algorithme grace à une métrique.\n",
    "-  Interpréter votre resultat.  "
   ]
  },
  {
   "cell_type": "code",
   "execution_count": 10,
   "metadata": {},
   "outputs": [
    {
     "name": "stdout",
     "output_type": "stream",
     "text": [
      "                                            Technologies  group\n",
      "6115  SAS/Teradata/SQL/R/Python/Machine learning/Anglais      1\n",
      "3101                                   C/C++/Java/Python      0\n",
      "8333                        Elasticsearch/Kibana/MongoDB      0\n",
      "1348      Python/Tensorflow/scikit-learn/Deep learning/R      1\n",
      "2695      Excel/Python/Matlab/R/machine learning/anglais      1\n",
      "6058        SPSS/Excel/SAS/R/machine learning/AI/Scoring      1\n",
      "5500                                  MongoDB/SQL/Docker      0\n",
      "6851                            R/Python/Hadoop/Hive/SQL      1\n",
      "8735                MariaDB/MongoDB/NoSQ/SQL/Hadoop/Hive      0\n",
      "1444                        R/machine learning/Excel/VBA      1\n",
      "0    5208\n",
      "1    4374\n",
      "Name: group, dtype: int64\n"
     ]
    }
   ],
   "source": []
  },
  {
   "cell_type": "markdown",
   "metadata": {},
   "source": [
    "### 9) Réaliser la prédiction des métiers manquants dans la base de données par l'algorithme de votre choix\n",
    "-  Justifier la performance de votre algorithme grace à une métrique.\n",
    "-  Interpréter votre resultat.  "
   ]
  },
  {
   "cell_type": "code",
   "execution_count": 11,
   "metadata": {},
   "outputs": [
    {
     "name": "stdout",
     "output_type": "stream",
     "text": [
      "                  Entreprise               Metier                                        Technologies   Diplome  Experience     Ville Exp_label  Metier_encoded  Diplome_encoded                                                                                                                                               checklist\n",
      "2537           Payette Group       Data scientist                                         Excel/VBA/R    Master         0.5  Toulouse  débutant               2                2  [0, 1, 0, 0, 0, 0, 1, 0, 0, 0, 0, 1, 0, 0, 0, 0, 0, 0, 0, 0, 0, 0, 0, 0, 0, 0, 0, 0, 0, 0, 0, 0, 0, 0, 0, 0, 0, 0, 0, 0, 0, 0, 0, 0, 0, 0, 0, 0, 0, 0]\n",
      "2153            Ontoforce NV       Data scientist  SAS/Teradata/SQL/R/Python/Machine learning/Anglais    Master         0.0      Lyon  débutant               2                2  [1, 1, 1, 0, 0, 1, 0, 0, 0, 0, 0, 0, 1, 0, 0, 0, 0, 0, 0, 0, 0, 0, 0, 0, 1, 1, 0, 0, 0, 0, 0, 0, 0, 0, 0, 0, 0, 0, 0, 0, 0, 0, 0, 0, 0, 0, 0, 0, 0, 0]\n",
      "4611  Vertex Pharmaceuticals      Data architecte                                  MongoDB/SQL/Docker  Bachelor         3.5  Toulouse  confirmé               0                1  [0, 0, 1, 0, 0, 0, 0, 0, 0, 0, 1, 0, 0, 1, 0, 0, 0, 0, 0, 0, 0, 0, 0, 0, 0, 0, 0, 0, 0, 0, 0, 0, 0, 0, 0, 0, 0, 0, 0, 0, 0, 0, 0, 0, 0, 0, 0, 0, 0, 0]\n",
      "2603                  JD.com       Data scientist        SPSS/Excel/SAS/R/machine learning/AI/Scoring       Phd         2.5     Lille  confirmé               2                3  [0, 1, 0, 0, 0, 1, 1, 0, 0, 0, 0, 0, 1, 0, 0, 0, 0, 0, 0, 0, 0, 0, 0, 0, 0, 0, 0, 0, 0, 1, 0, 0, 0, 0, 0, 0, 1, 1, 0, 0, 0, 0, 0, 0, 0, 0, 0, 0, 0, 0]\n",
      "4021             US Cellular      Data architecte                          Hadoop(HDFS)/Elasticsearch  Bachelor         1.5    Rennes  débutant               0                1  [0, 0, 0, 0, 0, 0, 0, 0, 0, 0, 0, 0, 0, 0, 0, 0, 0, 1, 0, 0, 0, 0, 0, 0, 0, 0, 0, 0, 0, 0, 0, 0, 0, 0, 0, 0, 0, 0, 0, 0, 0, 0, 0, 0, 0, 0, 0, 0, 0, 0]\n",
      "8734                 Harnham        Data engineer                              Python/Spark/GNU/Linux    Master         3.5     Lille  confirmé               1                2  [1, 0, 0, 0, 0, 0, 0, 0, 1, 1, 0, 0, 0, 0, 0, 0, 0, 0, 0, 0, 0, 0, 0, 1, 0, 0, 0, 0, 0, 0, 0, 0, 0, 0, 0, 0, 0, 0, 0, 0, 0, 0, 0, 0, 0, 0, 0, 0, 0, 0]\n",
      "1328             Pfizer Inc.       Data scientist                          Excel/VBA/R/Python/PySpark       Phd         0.5    Toulon  débutant               2                3  [1, 1, 0, 0, 0, 0, 1, 0, 0, 0, 0, 1, 0, 0, 0, 0, 0, 0, 0, 0, 0, 0, 0, 0, 0, 0, 1, 0, 0, 0, 0, 0, 0, 0, 0, 0, 0, 0, 0, 0, 0, 0, 0, 0, 0, 0, 0, 0, 0, 0]\n",
      "8769                 Novetta        Data engineer                        Elasticsearch/Kibana/MongoDB  Bachelor         0.0  Bordeaux  débutant               1                1  [0, 0, 0, 0, 0, 0, 0, 0, 0, 0, 1, 0, 0, 0, 0, 0, 0, 1, 0, 0, 0, 1, 0, 0, 0, 0, 0, 0, 0, 0, 0, 0, 0, 0, 0, 0, 0, 0, 0, 0, 0, 0, 0, 0, 0, 0, 0, 0, 0, 0]\n",
      "1487            John Hancock       Data scientist                                         Excel/VBA/R    Master         1.0  Toulouse  débutant               2                2  [0, 1, 0, 0, 0, 0, 1, 0, 0, 0, 0, 1, 0, 0, 0, 0, 0, 0, 0, 0, 0, 0, 0, 0, 0, 0, 0, 0, 0, 0, 0, 0, 0, 0, 0, 0, 0, 0, 0, 0, 0, 0, 0, 0, 0, 0, 0, 0, 0, 0]\n",
      "6434                    KPMG  Lead data scientist                        R/machine learning/Excel/VBA       Phd         5.0    Nantes    avancé               3                3  [0, 1, 0, 0, 0, 1, 1, 0, 0, 0, 0, 1, 0, 0, 0, 0, 0, 0, 0, 0, 0, 0, 0, 0, 0, 0, 0, 0, 0, 0, 0, 0, 0, 0, 0, 0, 0, 0, 0, 0, 0, 0, 0, 0, 0, 0, 0, 0, 0, 0]\n",
      "Entreprise          object\n",
      "Metier              object\n",
      "Technologies        object\n",
      "Diplome             object\n",
      "Experience         float64\n",
      "Ville               object\n",
      "Exp_label           object\n",
      "Metier_encoded       int32\n",
      "Diplome_encoded      int64\n",
      "checklist           object\n",
      "dtype: object\n",
      "Data scientist         3865\n",
      "Data engineer          2347\n",
      "Data architecte        2123\n",
      "Lead data scientist    1228\n",
      "Name: Metier, dtype: int64\n",
      "Paris          2011\n",
      "Lyon           1775\n",
      "Marseille      1545\n",
      "Toulouse        869\n",
      "Lille           771\n",
      "Bordeaux        690\n",
      "Nantes          365\n",
      "Rennes          359\n",
      "Rouen           315\n",
      "Strasbourg      309\n",
      "Toulon          186\n",
      "Nice            183\n",
      "Grenoble         98\n",
      "Montpellier      87\n",
      "Name: Ville, dtype: int64\n",
      "Master        4961\n",
      "Phd           2254\n",
      "Bachelor      1391\n",
      "No diploma     957\n",
      "Name: Diplome, dtype: int64\n",
      "test accuracy:  0.8944066910611604\n"
     ]
    }
   ],
   "source": []
  },
  {
   "cell_type": "code",
   "execution_count": null,
   "metadata": {},
   "outputs": [],
   "source": []
  }
 ],
 "metadata": {
  "kernelspec": {
   "display_name": "Python 3",
   "language": "python",
   "name": "python3"
  },
  "language_info": {
   "codemirror_mode": {
    "name": "ipython",
    "version": 3
   },
   "file_extension": ".py",
   "mimetype": "text/x-python",
   "name": "python",
   "nbconvert_exporter": "python",
   "pygments_lexer": "ipython3",
   "version": "3.6.13"
  }
 },
 "nbformat": 4,
 "nbformat_minor": 2
}
